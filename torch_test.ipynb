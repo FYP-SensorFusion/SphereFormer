{
 "cells": [
  {
   "cell_type": "code",
   "execution_count": 1,
   "metadata": {},
   "outputs": [
    {
     "name": "stdout",
     "output_type": "stream",
     "text": [
      "theta:  tensor(27.1052)\n",
      "phi:  tensor(87.8151)\n",
      "r:  tensor(57.5588)\n"
     ]
    }
   ],
   "source": [
    "import math\n",
    "import torch\n",
    "\n",
    "# Define the two floating-point numbers as tensors\n",
    "x = torch.tensor(-51.2000)\n",
    "y = torch.tensor(-26.2062)\n",
    "z = torch.tensor(2.1944)\n",
    "\n",
    "# Calculate the arctangent\n",
    "result_theta = (torch.atan2(y, x) + math.pi) * 180 / math.pi\n",
    "result_phi = torch.atan2(torch.sqrt(x**2 + y**2), z) * 180 / math.pi\n",
    "result_r = torch.sqrt(x**2 + y**2 + z**2)\n",
    "\n",
    "# Print the result\n",
    "print(\"theta: \", result_theta)\n",
    "print(\"phi: \", result_phi)\n",
    "print(\"r: \", result_r)\n"
   ]
  },
  {
   "cell_type": "code",
   "execution_count": 2,
   "metadata": {},
   "outputs": [],
   "source": [
    "import torch\n",
    "import torch_geometric\n",
    "import numpy as np"
   ]
  },
  {
   "cell_type": "code",
   "execution_count": 3,
   "metadata": {},
   "outputs": [
    {
     "data": {
      "text/plain": [
       "tensor([  6,  12, 130, 125,  30,  30])"
      ]
     },
     "execution_count": 3,
     "metadata": {},
     "output_type": "execute_result"
    }
   ],
   "source": [
    "# Sample data for 5 nodes with 3D positions\n",
    "# data = torch.tensor([\n",
    "#     [3, 3, 3],\n",
    "#     [1.0, 2.5, 3.1],  # Node 1 coordinates (x, y, z)\n",
    "#     [0.8, 1.7, 4.2],  # Node 2 coordinates\n",
    "#     [3.4, 0.9, 2.8],  # Node 3 coordinates\n",
    "#     [2.1, 5.2, 1.5],  # Node 4 coordinates\n",
    "#     [0.5, 3.8, 6.1],  # Node 5 coordinates\n",
    "# ])\n",
    "\n",
    "data = torch.tensor([\n",
    "    [2.4, 3.6, 1.2],  # Node 1 coordinates (x, y, z)\n",
    "    [4.9, 4.9, 0],\n",
    "    [1.4, 2.6, 0.7],  # Node 2 coordinates\n",
    "    [0.8, 1.4, 0.4],  # Node 3 coordinates\n",
    "    [1.1, 2.2, 3.5],  # Node 4 coordinates\n",
    "    [1.5, 2.8, 2.1],  # Node 5 coordinates\n",
    "])\n",
    "\n",
    "\n",
    "data.pos = data  # Assuming our data object already holds the positions\n",
    "\n",
    "# Assuming two separate graphs (components)\n",
    "# data.batch = torch.tensor([0, 0, 1, 1, 0])\n",
    "data.batch = torch.tensor([0, 0, 1, 1, 0, 0])\n",
    "\n",
    "\n",
    "# batch = data.batch.view(-1, 1).repeat(1, 3)  # Repeat batch values 3 times for each node\n",
    "\n",
    "# pos = torch.cat([data, batch], dim=-1)\n",
    "\n",
    "# print(data.shape)\n",
    "\n",
    "# Voxel size of 2 in all dimensions (cubic voxels)\n",
    "voxel_size = (2, 2, 2)\n",
    "# voxel_size = (2, 2, 3)\n",
    "# Define minimum coordinates (-2, 1, 0)\n",
    "start = (0, 0, 0)\n",
    "\n",
    "# Define maximum coordinates (5, 8, 7)\n",
    "end = (8, 8, 8)\n",
    "\n",
    "cluster = torch_geometric.nn.pool.voxel_grid(pos=data, batch=data.batch, start=start, end=end, size=voxel_size)\n",
    "# cluster = torch_geometric.nn.pool.voxel_grid(pos=data, batch=data.batch, size=voxel_size)\n",
    "\n",
    "cluster"
   ]
  },
  {
   "cell_type": "code",
   "execution_count": 4,
   "metadata": {},
   "outputs": [
    {
     "data": {
      "text/plain": [
       "(tensor([[2.4000, 3.6000, 1.2000],\n",
       "         [4.9000, 4.9000, 0.0000],\n",
       "         [1.4000, 2.6000, 0.7000],\n",
       "         [0.8000, 1.4000, 0.4000],\n",
       "         [1.1000, 2.2000, 3.5000],\n",
       "         [1.5000, 2.8000, 2.1000]]),\n",
       " 0,\n",
       " tensor(2.4000),\n",
       " tensor(2.4000),\n",
       " (2, 2, 2))"
      ]
     },
     "execution_count": 4,
     "metadata": {},
     "output_type": "execute_result"
    }
   ],
   "source": [
    "data, start[0], data[0][0*3+0], data[0][0*3+0] - start[0], voxel_size"
   ]
  },
  {
   "cell_type": "code",
   "execution_count": 21,
   "metadata": {},
   "outputs": [],
   "source": [
    "def check_point_in_ellipsoid(pos, center, size, c_0):\n",
    "    c_0 = int(c_0)\n",
    "    x, y, z = pos[0], pos[1], pos[2]\n",
    "    x_0, y_0, z_0 = center[0], center[1], center[2]\n",
    "    a, b, c = size[0], size[1], size[2]\n",
    "    # Calculate the equation of the ellipsoid\n",
    "    equation = ((x-x_0)**2 / a**2) + ((y-y_0)**2 / b**2) + ((z-z_0)**2 / c**2)\n",
    "\n",
    "    # Check if the point is inside, on, or outside the ellipsoid\n",
    "    if equation <= 1:\n",
    "        c_0 =  c_0\n",
    "    else:\n",
    "        if x - a >= 0 and y - b >= 0 and z - c >= 0:    # 5\n",
    "            # return \"Outside Right Top Front\"\n",
    "            c_0 = c_0 + 4\n",
    "        elif x - a >= 0 and y - b >= 0 and z - c < 0:   # 9\n",
    "            # return \"Outside Right Top Back\"\n",
    "            c_0 = c_0 + 8\n",
    "        elif x - a >= 0 and y - b < 0 and z - c >= 0:   # 3\n",
    "            # return \"Outside Right Bottom Front\"\n",
    "            c_0 = c_0 + 2\n",
    "        elif x - a >= 0 and y - b < 0 and z - c < 0:    # 7\n",
    "            # return \"Outside Right Bottom Back\"\n",
    "            c_0 = c_0 + 6\n",
    "        elif x - a < 0 and y - b >= 0 and z - c >= 0:   # 4\n",
    "            # return \"Outside Left Top Front\"\n",
    "            c_0 = c_0 + 3\n",
    "        elif x - a < 0 and y - b >= 0 and z - c < 0:    # 8\n",
    "            # return \"Outside Left Top Back\"\n",
    "            c_0 = c_0 + 7\n",
    "        elif x - a < 0 and y - b < 0 and z - c >= 0:    # 2\n",
    "            # return \"Outside Left Bottom Front\"\n",
    "            c_0 = c_0 + 1\n",
    "        elif x - a < 0 and y - b < 0 and z - c < 0:     # 6\n",
    "            # return \"Outside Left Bottom Back\"\n",
    "            c_0 = c_0 + 5\n",
    "        else:\n",
    "            c_0 = c_0\n",
    "            \n",
    "    return torch.tensor(c_0)"
   ]
  },
  {
   "cell_type": "code",
   "execution_count": 22,
   "metadata": {},
   "outputs": [
    {
     "name": "stdout",
     "output_type": "stream",
     "text": [
      "pos:  tensor([2.4000, 3.6000, 1.2000])\n",
      "cx:  1 kx:  4 px:  2.4000000953674316\n",
      "cy:  5 ky:  16 py:  3.5999999046325684\n",
      "cz:  5 kz:  64 pz:  1.2000000476837158\n",
      "center:  [3.0, 3.0, 1.0]\n",
      "[tensor(45)] <class 'list'>\n",
      "pos:  tensor([4.9000, 4.9000, 0.0000])\n",
      "cx:  2 kx:  4 px:  4.900000095367432\n",
      "cy:  10 ky:  16 py:  4.900000095367432\n",
      "cz:  10 kz:  64 pz:  0.0\n",
      "center:  [5.0, 5.0, 1.0]\n",
      "[tensor(90)] <class 'list'>\n",
      "pos:  tensor([1.4000, 2.6000, 0.7000])\n",
      "cx:  0 kx:  4 px:  1.399999976158142\n",
      "cy:  4 ky:  16 py:  2.5999999046325684\n",
      "cz:  4 kz:  64 pz:  0.699999988079071\n",
      "center:  [1.0, 3.0, 1.0]\n",
      "[tensor(36)] <class 'list'>\n",
      "pos:  tensor([0.8000, 1.4000, 0.4000])\n",
      "cx:  0 kx:  4 px:  0.800000011920929\n",
      "cy:  0 ky:  16 py:  1.399999976158142\n",
      "cz:  0 kz:  64 pz:  0.4000000059604645\n",
      "center:  [1.0, 1.0, 1.0]\n",
      "[tensor(0)] <class 'list'>\n",
      "pos:  tensor([1.1000, 2.2000, 3.5000])\n",
      "cx:  0 kx:  4 px:  1.100000023841858\n",
      "cy:  4 ky:  16 py:  2.200000047683716\n",
      "cz:  20 kz:  64 pz:  3.5\n",
      "center:  [1.0, 3.0, 3.0]\n",
      "[tensor(180)] <class 'list'>\n",
      "pos:  tensor([1.5000, 2.8000, 2.1000])\n",
      "cx:  0 kx:  4 px:  1.5\n",
      "cy:  4 ky:  16 py:  2.799999952316284\n",
      "cz:  20 kz:  64 pz:  2.0999999046325684\n",
      "center:  [1.0, 3.0, 3.0]\n",
      "[tensor(180)] <class 'list'>\n"
     ]
    }
   ],
   "source": [
    "def grid_kernel_python_new(pos, size, start, end, D, numel):\n",
    "  out = [0]\n",
    "  thread_idx = 0\n",
    "  px = py = pz = 0\n",
    "  c = 0\n",
    "  cx = cy = cz = 0\n",
    "  k = 1\n",
    "  kx = ky = kz = 1\n",
    "  center = [0, 0, 0]\n",
    "  for d in range(D):\n",
    "    # print(\"c_start: \", c)\n",
    "    # print(\"k_start: \", k)\n",
    "    p = pos[thread_idx*D + d] - start[d]\n",
    "    steps = p // size[d]\n",
    "    center[d] = float(steps * size[d] + size[d]/2)\n",
    "    c += steps * k\n",
    "    k *= ((end[d] - start[d]) // size[d])\n",
    "    \n",
    "    out[thread_idx] = c * 9\n",
    "    out[thread_idx] = check_point_in_ellipsoid(pos, center, size, out[thread_idx])\n",
    "    # print(\"c_end: \", c)\n",
    "    # print(\"k_end: \", k)\n",
    "\n",
    "    if d == 0:\n",
    "      px = float(p)\n",
    "      cx = int(c)\n",
    "      kx = int(k)\n",
    "      # print(\"cx: \", cx)\n",
    "\n",
    "    elif d == 1:\n",
    "      py = float(p)\n",
    "      cy = int(c)\n",
    "      ky = int(k)\n",
    "      # print(\"cy: \", cy)\n",
    "\n",
    "    elif d == 2:\n",
    "      pz = float(p)\n",
    "      cz = int(c)\n",
    "      kz = int(k)\n",
    "      # print(\"cz: \", cz)\n",
    "\n",
    "  print(\"pos: \", pos)\n",
    "  print(\"cx: \", cx, \"kx: \", kx, \"px: \", px)\n",
    "  print(\"cy: \", cy, \"ky: \", ky, \"py: \", py)\n",
    "  print(\"cz: \", cz, \"kz: \", kz, \"pz: \", pz)\n",
    "  print(\"center: \", center)\n",
    "\n",
    "  return out\n",
    "\n",
    "for i in range(len(data)):\n",
    "  indices = grid_kernel_python_new(data[i], voxel_size, start, end, len(data[0]), 1000)\n",
    "  print(indices, type(indices))"
   ]
  },
  {
   "cell_type": "code",
   "execution_count": 20,
   "metadata": {},
   "outputs": [
    {
     "name": "stderr",
     "output_type": "stream",
     "text": [
      "C:\\Users\\User\\AppData\\Local\\Temp\\ipykernel_16256\\81980031.py:40: UserWarning: To copy construct from a tensor, it is recommended to use sourceTensor.clone().detach() or sourceTensor.clone().detach().requires_grad_(True), rather than torch.tensor(sourceTensor).\n",
      "  return torch.tensor(c_0)\n"
     ]
    },
    {
     "data": {
      "text/plain": [
       "tensor(49.)"
      ]
     },
     "execution_count": 20,
     "metadata": {},
     "output_type": "execute_result"
    }
   ],
   "source": [
    "pos = torch.tensor([\n",
    "    [4.4, 5.6, 2.2],\n",
    "    [4.9, 4.9, 0],\n",
    "    [1.4, 2.6, 0.7], \n",
    "    [0.8, 1.4, 0.4], \n",
    "    [1.1, 2.2, 3.5],  \n",
    "    [1.5, 2.8, 2.1],  \n",
    "])\n",
    "\n",
    "center = torch.Tensor([\n",
    "    [3.0, 3.0, 1.0],\n",
    "    [5.0, 5.0, 1.0],\n",
    "    [1.0, 3.0, 1.0],\n",
    "    [1.0, 1.0, 1.0],\n",
    "    [1.0, 3.0, 3.0],\n",
    "    [1.0, 3.0, 3.0]\n",
    "])\n",
    "\n",
    "size = torch.Tensor([2.0, 2.0, 2.0]) \n",
    "\n",
    "c_0 = torch.tensor(45.)\n",
    "\n",
    "new_c_0 = check_point_in_ellipsoid(pos[0], center[0], size, c_0)\n",
    "new_c_0"
   ]
  },
  {
   "cell_type": "code",
   "execution_count": 85,
   "metadata": {},
   "outputs": [
    {
     "name": "stdout",
     "output_type": "stream",
     "text": [
      "[tensor(17.)]\n",
      "[tensor(33.)]\n",
      "[tensor(14.)]\n",
      "[tensor(10.)]\n",
      "[tensor(53.)]\n"
     ]
    }
   ],
   "source": [
    "def grid_kernel_python(pos, size, start, end, D, numel):\n",
    "  out = [0]\n",
    "  thread_idx = 0\n",
    "  c = 0\n",
    "  k = 1\n",
    "  for d in range(D):\n",
    "    # print(\"c_start: \", c)\n",
    "    # print(\"k: \", k)\n",
    "    p = pos[thread_idx*D + d] - start[d]\n",
    "    c += (p // size[d]) * k\n",
    "    k *= ((end[d] - start[d]) // size[d]+ 1) \n",
    "  \n",
    "    out[thread_idx] = c\n",
    "    # print(\"c_end: \", c)\n",
    "\n",
    "  return out\n",
    "\n",
    "for i in range(5):\n",
    "  indices = grid_kernel_python(data[i], voxel_size, start, end, len(data[i]), 1000)\n",
    "  print(indices)\n"
   ]
  },
  {
   "cell_type": "code",
   "execution_count": 70,
   "metadata": {},
   "outputs": [
    {
     "name": "stdout",
     "output_type": "stream",
     "text": [
      "Total number of voxels: 42\n"
     ]
    }
   ],
   "source": [
    "grid_extent_x = (end[0] - start[0]) / voxel_size\n",
    "grid_extent_y = (end[1] - start[1]) / voxel_size\n",
    "grid_extent_z = (end[2] - start[2]) / voxel_size\n",
    "\n",
    "total_voxels = int(grid_extent_x * grid_extent_y * grid_extent_z)\n",
    "print(\"Total number of voxels:\", total_voxels)\n"
   ]
  },
  {
   "cell_type": "code",
   "execution_count": 72,
   "metadata": {},
   "outputs": [],
   "source": [
    "def try_this(pos, batch, start, end, size):\n",
    "    print(pos.dim())"
   ]
  },
  {
   "cell_type": "code",
   "execution_count": 52,
   "metadata": {},
   "outputs": [
    {
     "data": {
      "text/plain": [
       "tensor([17, 33, 82, 74, 53])"
      ]
     },
     "execution_count": 52,
     "metadata": {},
     "output_type": "execute_result"
    }
   ],
   "source": [
    "# Sample data for 5 nodes with 3D positions\n",
    "data = torch.tensor([\n",
    "    [1.0, 2.5, 3.1],  # Node 1 coordinates (x, y, z)\n",
    "    [0.8, 1.7, 4.2],  # Node 2 coordinates\n",
    "    [3.4, 0.9, 2.8],  # Node 3 coordinates\n",
    "    [2.1, 5.2, 1.5],  # Node 4 coordinates\n",
    "    [0.5, 3.8, 6.1],  # Node 5 coordinates\n",
    "])\n",
    "\n",
    "data.pos = data  # Assuming our data object already holds the positions\n",
    "\n",
    "# Assuming two separate graphs (components)\n",
    "data.batch = torch.tensor([0, 0, 1, 1, 0])\n",
    "\n",
    "\n",
    "# batch = data.batch.view(-1, 1).repeat(1, 3)  # Repeat batch values 3 times for each node\n",
    "\n",
    "# pos = torch.cat([data, batch], dim=-1)\n",
    "\n",
    "# print(data.shape)\n",
    "\n",
    "# Voxel size of 2 in all dimensions (cubic voxels)\n",
    "voxel_size = 2\n",
    "# voxel_size = (2, 2, 3)\n",
    "# Define minimum coordinates (-2, 1, 0)\n",
    "start = (-2, 1, 0)\n",
    "\n",
    "# Define maximum coordinates (5, 8, 7)\n",
    "end = (5, 8, 7)\n",
    "\n",
    "# cluster = torch_geometric.nn.pool.voxel_grid(pos=data, batch=data.batch, start=start, end=end, size=voxel_size)\n",
    "# cluster = torch_geometric.nn.pool.voxel_grid(pos=data, batch=data.batch, size=voxel_size)\n",
    "dim = data.size(1)\n",
    "'''data.size()   # 5,3 -> data.size(1) => 3'''\n",
    "\n",
    "data = torch.cat([data, data.batch.view(-1, 1).to(data.dtype)], dim=-1) # Add the batch value to each node dim = 5x4\n",
    "'''\n",
    "data.dtype  # torch.float32\n",
    "data.device # 'cpu'\n",
    "'''\n",
    "voxel_size = torch.tensor(voxel_size, dtype=data.dtype, device=data.device)\n",
    "'''voxel_size  #tensor(2.)'''\n",
    "voxel_size = torch_geometric.utils.repeat.repeat(voxel_size, dim)  # Repeat the voxel size for each dimension -> 4 \n",
    "voxel_size = torch.cat([voxel_size, voxel_size.new_ones(1)])   # tensor([2., 2., 2., 1.])\n",
    "\n",
    "\n",
    "start = torch.tensor(start, dtype=data.dtype, device=data.device)   # tensor([-2.,  1.,  0.])\n",
    "start = torch_geometric.utils.repeat.repeat(start, dim)             # tensor([-2.,  1.,  0.])\n",
    "start = torch.cat([start, start.new_zeros(1)])                      # tensor([-2.,  1.,  0.,  0.])\n",
    "\n",
    "\n",
    "end = torch.tensor(end, dtype=data.dtype, device=data.device)       # tensor([5., 8., 7.])\n",
    "end = torch_geometric.utils.repeat.repeat(end, dim)                 # tensor([5., 8., 7.])\n",
    "end = torch.cat([end, end.new_ones(1)])                             # tensor([5., 8., 7., 1.])\n",
    "\n",
    "cluster = torch.ops.torch_cluster.grid(data, voxel_size, start, end)          # tensor([17, 33, 82, 74, 53])\n",
    "cluster"
   ]
  },
  {
   "cell_type": "code",
   "execution_count": 31,
   "metadata": {},
   "outputs": [
    {
     "data": {
      "text/plain": [
       "'\\nunique = tensor([23, 45, 78, 89])\\ncluster = tensor([2, 1, 1, 0, 3])\\n'"
      ]
     },
     "execution_count": 31,
     "metadata": {},
     "output_type": "execute_result"
    }
   ],
   "source": [
    "cluster = torch.tensor([78, 45, 45, 23, 89])\n",
    "\n",
    "'''\n",
    "unique = tensor([23, 45, 78, 89])\n",
    "cluster = tensor([2, 1, 1, 0, 3])\n",
    "'''"
   ]
  },
  {
   "cell_type": "code",
   "execution_count": 32,
   "metadata": {},
   "outputs": [
    {
     "data": {
      "text/plain": [
       "(tensor([2, 1, 1, 0, 3]), 2, tensor([1, 2, 1, 1]))"
      ]
     },
     "execution_count": 32,
     "metadata": {},
     "output_type": "execute_result"
    }
   ],
   "source": [
    "unique, cluster = torch.unique(cluster, sorted=True, return_inverse=True)   # tensor([17, 33, 53, 74, 82]) tensor([0, 1, 4, 3, 2])\n",
    "unique, cluster, counts = torch.unique(cluster, sorted=True, return_inverse=True, return_counts=True)   # tensor([0, 1, 2, 3, 4]) tensor([0, 1, 1, 2, 3]) tensor([1, 2, 1, 1])\n",
    "cluster, counts.max().item(), counts"
   ]
  },
  {
   "cell_type": "code",
   "execution_count": 44,
   "metadata": {},
   "outputs": [
    {
     "data": {
      "text/plain": [
       "tensor([3, 1, 2, 0, 4])"
      ]
     },
     "execution_count": 44,
     "metadata": {},
     "output_type": "execute_result"
    }
   ],
   "source": [
    "n = unique.shape[0]     # 5\n",
    "k = counts.max().item() # < 5\n",
    "p2v_map = cluster.new_zeros(n, k)\n",
    "# counts.unsqueeze(-1)    # tensor([[1], [1], [1], [1], [1]])\n",
    "# torch.arange(k).unsqueeze(0)  # tensor([[0]])\n",
    "mask = torch.arange(k).unsqueeze(0) < counts.unsqueeze(-1)  # tensor([[True], [True], [True], [True], [True]])\n",
    "p2v_map[mask] = torch.argsort(cluster)  # indices are sorted in ascending order\n",
    "# cluster\n",
    "torch.argsort(cluster)\n",
    "# cluster, p2v_map, counts"
   ]
  },
  {
   "cell_type": "code",
   "execution_count": 50,
   "metadata": {},
   "outputs": [
    {
     "data": {
      "text/plain": [
       "tensor([0, 1, 4, 3, 2])"
      ]
     },
     "execution_count": 50,
     "metadata": {},
     "output_type": "execute_result"
    }
   ],
   "source": [
    "v2p_map, k, counts = cluster, p2v_map, counts\n",
    "n = counts.shape[0]  # 5\n",
    "N = v2p_map.shape[0] # 5\n",
    "n_max = k            # tensor([[0], [1], [4], [3], [2]])\n",
    "v2p_map, sort_idx = v2p_map.sort()       # torch.return_types.sort(values=tensor([0, 1, 2, 3, 4]), indices=tensor([0, 1, 4, 3, 2]))\n",
    "sort_idx"
   ]
  },
  {
   "cell_type": "code",
   "execution_count": 19,
   "metadata": {},
   "outputs": [
    {
     "data": {
      "text/plain": [
       "5"
      ]
     },
     "execution_count": 19,
     "metadata": {},
     "output_type": "execute_result"
    }
   ],
   "source": []
  }
 ],
 "metadata": {
  "kernelspec": {
   "display_name": "deeploc_20",
   "language": "python",
   "name": "python3"
  },
  "language_info": {
   "codemirror_mode": {
    "name": "ipython",
    "version": 3
   },
   "file_extension": ".py",
   "mimetype": "text/x-python",
   "name": "python",
   "nbconvert_exporter": "python",
   "pygments_lexer": "ipython3",
   "version": "3.11.5"
  }
 },
 "nbformat": 4,
 "nbformat_minor": 2
}
